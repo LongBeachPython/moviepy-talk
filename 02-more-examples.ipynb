{
 "cells": [
  {
   "cell_type": "markdown",
   "metadata": {},
   "source": [
    "# Examples!\n",
    "\n",
    "Here are some examples you may see in the wild.\n",
    "\n",
    "### Helper Functions and Imports"
   ]
  },
  {
   "cell_type": "code",
   "execution_count": 2,
   "metadata": {
    "collapsed": true
   },
   "outputs": [],
   "source": [
    "from IPython.display import HTML\n",
    "from moviepy.editor import *\n",
    "\n",
    "def display_video(url, width=500, height=500):\n",
    "    return HTML(\"\"\"\n",
    "    <video width=\"%d\" height=\"%d\" style=\"margin:auto auto;\" autoplay loop=\"true\" >\n",
    "      <source src=\"%s\" type=\"video/mp4\">\n",
    "    </video>\n",
    "    \"\"\" % (width, height, url))"
   ]
  },
  {
   "cell_type": "markdown",
   "metadata": {},
   "source": [
    "## Two Captions over GIF"
   ]
  },
  {
   "cell_type": "code",
   "execution_count": 2,
   "metadata": {
    "collapsed": false
   },
   "outputs": [
    {
     "name": "stdout",
     "output_type": "stream",
     "text": [
      "[MoviePy] >>>> Building video cookie_monster.mp4\n",
      "[MoviePy] Writing video cookie_monster.mp4\n"
     ]
    },
    {
     "name": "stderr",
     "output_type": "stream",
     "text": [
      " 91%|█████████ | 10/11 [00:00<00:00, 86.03it/s]"
     ]
    },
    {
     "name": "stdout",
     "output_type": "stream",
     "text": [
      "[MoviePy] Done.\n",
      "[MoviePy] >>>> Video ready: cookie_monster.mp4 \n",
      "\n"
     ]
    },
    {
     "name": "stderr",
     "output_type": "stream",
     "text": [
      "\n"
     ]
    },
    {
     "data": {
      "text/html": [
       "\n",
       "    <video width=\"500\" height=\"500\" style=\"margin:auto auto;\" autoplay loop=\"true\" >\n",
       "      <source src=\"cookie_monster.mp4\" type=\"video/mp4\">\n",
       "    </video>\n",
       "    "
      ],
      "text/plain": [
       "<IPython.core.display.HTML object>"
      ]
     },
     "execution_count": 2,
     "metadata": {},
     "output_type": "execute_result"
    }
   ],
   "source": [
    "MAX_LENGTH = 1 # Seconds\n",
    "screensize = (500,281)\n",
    "\n",
    "cookie_monster = VideoFileClip(\"res/cookie_monster.gif\").subclip(0, MAX_LENGTH)\n",
    "\n",
    "def make_caption(text, duration):\n",
    "    return TextClip(text,\n",
    "                    color='white', font=\"Impact\", stroke_color='black', stroke_width=1,\n",
    "                    fontsize=40).set_duration(duration)    \n",
    "\n",
    "caption_top = make_caption('my face when I', MAX_LENGTH).set_pos('top')\n",
    "\n",
    "caption_bottom = make_caption('pip install ntlk', MAX_LENGTH).set_pos('bottom')\n",
    "\n",
    "video = CompositeVideoClip( [cookie_monster, caption_bottom, caption_top] )\n",
    "\n",
    "video.write_videofile(\"cookie_monster.mp4\")\n",
    "display_video(\"cookie_monster.mp4\")"
   ]
  },
  {
   "cell_type": "markdown",
   "metadata": {},
   "source": [
    "## Concatenating many GIFS"
   ]
  },
  {
   "cell_type": "code",
   "execution_count": 36,
   "metadata": {
    "collapsed": false
   },
   "outputs": [
    {
     "name": "stdout",
     "output_type": "stream",
     "text": [
      "[MoviePy] >>>> Building video video.mp4\n",
      "[MoviePy] Writing video video.mp4\n"
     ]
    },
    {
     "name": "stderr",
     "output_type": "stream",
     "text": [
      "100%|█████████▉| 204/205 [00:00<00:00, 213.30it/s]\n"
     ]
    },
    {
     "name": "stdout",
     "output_type": "stream",
     "text": [
      "[MoviePy] Done.\n",
      "[MoviePy] >>>> Video ready: video.mp4 \n",
      "\n"
     ]
    },
    {
     "data": {
      "text/html": [
       "\n",
       "    <video width=\"300\" height=\"300\" style=\"margin:auto auto;\" autoplay loop=\"true\" >\n",
       "      <source src=\"video.mp4\" type=\"video/mp4\">\n",
       "    </video>\n",
       "    "
      ],
      "text/plain": [
       "<IPython.core.display.HTML object>"
      ]
     },
     "execution_count": 36,
     "metadata": {},
     "output_type": "execute_result"
    }
   ],
   "source": [
    "MAX_LENGTH = 1 # Seconds\n",
    "screensize = (500,281)\n",
    "\n",
    "reaction_gifs = [VideoFileClip(\"res/concat_0%d.mp4\" % x) for x in range(0, 5)]\n",
    "\n",
    "final_clip = concatenate_videoclips(reaction_gifs)\n",
    "caption_top = make_caption('', 8.5).set_pos('top')\n",
    "caption_bottom = make_caption('in python', 8.5).set_pos('bottom')\n",
    "CompositeVideoClip( [final_clip, caption_bottom, caption_top] ).write_videofile(\"video.mp4\", fps=24)\n",
    "\n",
    "display_video(\"video.mp4\", 300, 300)"
   ]
  },
  {
   "cell_type": "markdown",
   "metadata": {},
   "source": [
    "## Zooming in (for intense effect)"
   ]
  },
  {
   "cell_type": "code",
   "execution_count": 3,
   "metadata": {
    "collapsed": false
   },
   "outputs": [
    {
     "ename": "ImportError",
     "evalue": "fx resize needs OpenCV or Scipy or PIL",
     "output_type": "error",
     "traceback": [
      "\u001b[0;31m---------------------------------------------------------------------------\u001b[0m",
      "\u001b[0;31mImportError\u001b[0m                               Traceback (most recent call last)",
      "\u001b[0;32m<ipython-input-3-e7c3a4ace242>\u001b[0m in \u001b[0;36m<module>\u001b[0;34m()\u001b[0m\n\u001b[1;32m      3\u001b[0m \u001b[0;34m\u001b[0m\u001b[0m\n\u001b[1;32m      4\u001b[0m cookie_monster = (VideoFileClip(\"res/cookie_monster.gif\").subclip(0, MAX_LENGTH)\n\u001b[0;32m----> 5\u001b[0;31m                    \u001b[0;34m.\u001b[0m\u001b[0mresize\u001b[0m\u001b[0;34m(\u001b[0m\u001b[0mheight\u001b[0m\u001b[0;34m=\u001b[0m\u001b[0mscreensize\u001b[0m\u001b[0;34m[\u001b[0m\u001b[0;36m1\u001b[0m\u001b[0;34m]\u001b[0m\u001b[0;34m/\u001b[0m\u001b[0;36m2\u001b[0m\u001b[0;34m)\u001b[0m\u001b[0;34m\u001b[0m\u001b[0m\n\u001b[0m\u001b[1;32m      6\u001b[0m             \u001b[0;34m.\u001b[0m\u001b[0mresize\u001b[0m\u001b[0;34m(\u001b[0m\u001b[0;32mlambda\u001b[0m \u001b[0mt\u001b[0m \u001b[0;34m:\u001b[0m \u001b[0;36m1\u001b[0m\u001b[0;34m+\u001b[0m\u001b[0;36m0.02\u001b[0m\u001b[0;34m*\u001b[0m\u001b[0mt\u001b[0m\u001b[0;34m)\u001b[0m\u001b[0;34m\u001b[0m\u001b[0m\n\u001b[1;32m      7\u001b[0m             .set_duration(7))\n",
      "\u001b[0;32m/Users/davidnuon/.virtualenvs/moviepy-talk/lib/python3.5/site-packages/moviepy/video/fx/resize.py\u001b[0m in \u001b[0;36mresize\u001b[0;34m(clip, newsize, height, width)\u001b[0m\n\u001b[1;32m    154\u001b[0m     \u001b[0mdoc\u001b[0m \u001b[0;34m=\u001b[0m \u001b[0mresize\u001b[0m\u001b[0;34m.\u001b[0m\u001b[0m__doc__\u001b[0m\u001b[0;34m\u001b[0m\u001b[0m\n\u001b[1;32m    155\u001b[0m     \u001b[0;32mdef\u001b[0m \u001b[0mresize\u001b[0m\u001b[0;34m(\u001b[0m\u001b[0mclip\u001b[0m\u001b[0;34m,\u001b[0m \u001b[0mnewsize\u001b[0m\u001b[0;34m=\u001b[0m\u001b[0;32mNone\u001b[0m\u001b[0;34m,\u001b[0m \u001b[0mheight\u001b[0m\u001b[0;34m=\u001b[0m\u001b[0;32mNone\u001b[0m\u001b[0;34m,\u001b[0m \u001b[0mwidth\u001b[0m\u001b[0;34m=\u001b[0m\u001b[0;32mNone\u001b[0m\u001b[0;34m)\u001b[0m\u001b[0;34m:\u001b[0m\u001b[0;34m\u001b[0m\u001b[0m\n\u001b[0;32m--> 156\u001b[0;31m         \u001b[0;32mraise\u001b[0m \u001b[0mImportError\u001b[0m\u001b[0;34m(\u001b[0m\u001b[0;34m\"fx resize needs OpenCV or Scipy or PIL\"\u001b[0m\u001b[0;34m)\u001b[0m\u001b[0;34m\u001b[0m\u001b[0m\n\u001b[0m\u001b[1;32m    157\u001b[0m     \u001b[0mresize\u001b[0m\u001b[0;34m.\u001b[0m\u001b[0m__doc__\u001b[0m \u001b[0;34m=\u001b[0m \u001b[0mdoc\u001b[0m\u001b[0;34m\u001b[0m\u001b[0m\n",
      "\u001b[0;31mImportError\u001b[0m: fx resize needs OpenCV or Scipy or PIL"
     ]
    }
   ],
   "source": [
    "MAX_LENGTH = 1 # Seconds\n",
    "screensize = (500,281)\n",
    "\n",
    "cookie_monster = (VideoFileClip(\"res/cookie_monster.gif\").subclip(0, MAX_LENGTH)\n",
    "                   .resize(height=screensize[1]/2)\n",
    "            .resize(lambda t : 1+0.02*t)\n",
    "            .set_duration(7))\n",
    "\n",
    "video = CompositeVideoClip( [cookie_monster] )\n",
    "\n",
    "video.write_videofile(\"cookie_monster.mp4\")\n",
    "display_video(\"cookie_monster.mp4\")"
   ]
  },
  {
   "cell_type": "markdown",
   "metadata": {},
   "source": [
    "## Making a Music Track Video"
   ]
  },
  {
   "cell_type": "code",
   "execution_count": null,
   "metadata": {
    "collapsed": true
   },
   "outputs": [],
   "source": []
  }
 ],
 "metadata": {
  "kernelspec": {
   "display_name": "Python 3",
   "language": "python",
   "name": "python3"
  },
  "language_info": {
   "codemirror_mode": {
    "name": "ipython",
    "version": 3
   },
   "file_extension": ".py",
   "mimetype": "text/x-python",
   "name": "python",
   "nbconvert_exporter": "python",
   "pygments_lexer": "ipython3",
   "version": "3.5.1"
  }
 },
 "nbformat": 4,
 "nbformat_minor": 1
}
