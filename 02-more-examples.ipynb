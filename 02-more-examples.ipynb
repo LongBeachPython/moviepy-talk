{
 "cells": [
  {
   "cell_type": "markdown",
   "metadata": {},
   "source": [
    "# Examples!\n",
    "\n",
    "Here are some examples you may see in the wild.\n",
    "\n",
    "### Helper Functions and Imports"
   ]
  },
  {
   "cell_type": "code",
   "execution_count": 4,
   "metadata": {
    "collapsed": true
   },
   "outputs": [],
   "source": [
    "from IPython.display import HTML\n",
    "from moviepy.editor import *\n",
    "\n",
    "def display_video(url, width=500, height=500):\n",
    "    return HTML(\"\"\"\n",
    "    <video width=\"%d\" height=\"%d\" style=\"margin:auto auto;\" autoplay loop=\"true\" >\n",
    "      <source src=\"%s\" type=\"video/mp4\">\n",
    "    </video>\n",
    "    \"\"\" % (width, height, url))"
   ]
  },
  {
   "cell_type": "markdown",
   "metadata": {},
   "source": [
    "## Two Captions over GIF"
   ]
  },
  {
   "cell_type": "code",
   "execution_count": 38,
   "metadata": {
    "collapsed": false
   },
   "outputs": [
    {
     "name": "stdout",
     "output_type": "stream",
     "text": [
      "[MoviePy] >>>> Building video cookie_monster.mp4\n",
      "[MoviePy] Writing video cookie_monster.mp4\n"
     ]
    },
    {
     "name": "stderr",
     "output_type": "stream",
     "text": [
      " 91%|█████████ | 10/11 [00:00<00:00, 121.81it/s]"
     ]
    },
    {
     "name": "stdout",
     "output_type": "stream",
     "text": [
      "[MoviePy] Done.\n",
      "[MoviePy] >>>> Video ready: cookie_monster.mp4 \n",
      "\n"
     ]
    },
    {
     "name": "stderr",
     "output_type": "stream",
     "text": [
      "\n"
     ]
    },
    {
     "data": {
      "text/html": [
       "\n",
       "    <video width=\"500\" height=\"500\" style=\"margin:auto auto;\" autoplay loop=\"true\" >\n",
       "      <source src=\"cookie_monster.mp4\" type=\"video/mp4\">\n",
       "    </video>\n",
       "    "
      ],
      "text/plain": [
       "<IPython.core.display.HTML object>"
      ]
     },
     "execution_count": 38,
     "metadata": {},
     "output_type": "execute_result"
    }
   ],
   "source": [
    "MAX_LENGTH = 1 # Seconds\n",
    "screensize = (500,281)\n",
    "\n",
    "cookie_monster = VideoFileClip(\"res/cookie_monster.gif\").subclip(0, MAX_LENGTH)\n",
    "\n",
    "def make_caption(text, duration):\n",
    "    return TextClip(text,\n",
    "                    color='white', font=\"Impact\", stroke_color='black', stroke_width=1,\n",
    "                    fontsize=40).set_duration(duration)    \n",
    "\n",
    "caption_top = make_caption('my face when I', MAX_LENGTH).set_pos('top')\n",
    "\n",
    "caption_bottom = make_caption('pip install ntlk', MAX_LENGTH).set_pos('bottom')\n",
    "\n",
    "video = CompositeVideoClip( [cookie_monster, caption_bottom, caption_top] )\n",
    "\n",
    "video.write_videofile(\"cookie_monster.mp4\")\n",
    "display_video(\"cookie_monster.mp4\")"
   ]
  },
  {
   "cell_type": "markdown",
   "metadata": {},
   "source": [
    "## Concatenating many GIFS"
   ]
  },
  {
   "cell_type": "markdown",
   "metadata": {},
   "source": [
    "## Zooming in (for intense effect)"
   ]
  },
  {
   "cell_type": "markdown",
   "metadata": {},
   "source": [
    "## Making a Music Track Video"
   ]
  },
  {
   "cell_type": "code",
   "execution_count": null,
   "metadata": {
    "collapsed": true
   },
   "outputs": [],
   "source": []
  }
 ],
 "metadata": {
  "kernelspec": {
   "display_name": "Python 3",
   "language": "python",
   "name": "python3"
  },
  "language_info": {
   "codemirror_mode": {
    "name": "ipython",
    "version": 3
   },
   "file_extension": ".py",
   "mimetype": "text/x-python",
   "name": "python",
   "nbconvert_exporter": "python",
   "pygments_lexer": "ipython3",
   "version": "3.5.1"
  }
 },
 "nbformat": 4,
 "nbformat_minor": 1
}
