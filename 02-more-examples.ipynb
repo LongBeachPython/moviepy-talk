{
 "cells": [
  {
   "cell_type": "markdown",
   "metadata": {},
   "source": [
    "# Examples!\n",
    "\n",
    "Here are some examples you may see in the wild.\n",
    "\n",
    "### Helper Functions and Imports"
   ]
  },
  {
   "cell_type": "code",
   "execution_count": null,
   "metadata": {
    "collapsed": true
   },
   "outputs": [],
   "source": [
    "from IPython.display import HTML\n",
    "from moviepy.editor import *\n",
    "\n",
    "def display_video(url, width=500, height=500):\n",
    "    return HTML(\"\"\"\n",
    "    <video width=\"%d\" height=\"%d\" style=\"margin:auto auto;\" autoplay loop=\"true\" >\n",
    "      <source src=\"%s\" type=\"video/mp4\">\n",
    "    </video>\n",
    "    \"\"\" % (width, height, url))\n",
    "\n",
    "def make_caption(text, duration):\n",
    "    return TextClip(text,\n",
    "                    color='white', font=\"Impact\", stroke_color='black', stroke_width=1,\n",
    "                    fontsize=40).set_duration(duration)    "
   ]
  },
  {
   "cell_type": "markdown",
   "metadata": {},
   "source": [
    "## Two Captions over GIF"
   ]
  },
  {
   "cell_type": "code",
   "execution_count": null,
   "metadata": {
    "collapsed": false
   },
   "outputs": [],
   "source": [
    "MAX_LENGTH = 1 # Seconds\n",
    "screensize = (500,281)\n",
    "\n",
    "cookie_monster = VideoFileClip(\"res/cookie_monster.gif\").subclip(0, MAX_LENGTH)\n",
    "\n",
    "\n",
    "caption_top = make_caption('my face when I', MAX_LENGTH).set_pos('top')\n",
    "\n",
    "caption_bottom = make_caption('pip install ntlk', MAX_LENGTH).set_pos('bottom')\n",
    "\n",
    "video = CompositeVideoClip( [cookie_monster, caption_bottom, caption_top] )\n",
    "\n",
    "video.write_videofile(\"cookie_monster.mp4\")\n",
    "display_video(\"cookie_monster.mp4\")"
   ]
  },
  {
   "cell_type": "markdown",
   "metadata": {},
   "source": [
    "## Concatenating many GIFS"
   ]
  },
  {
   "cell_type": "code",
   "execution_count": null,
   "metadata": {
    "collapsed": false
   },
   "outputs": [],
   "source": [
    "MAX_LENGTH = 1 # Seconds\n",
    "screensize = (500,281)\n",
    "\n",
    "reaction_gifs = [VideoFileClip(\"res/concat_0%d.mp4\" % x) for x in range(0, 5)]\n",
    "\n",
    "final_clip = concatenate_videoclips(reaction_gifs)\n",
    "caption_top = make_caption('category theory', 8.5).set_pos('top')\n",
    "caption_bottom = make_caption('in python', 8.5).set_pos('bottom')\n",
    "CompositeVideoClip( [final_clip, caption_bottom, caption_top] ).write_videofile(\"cat_theory.mp4\", fps=24)\n",
    "\n",
    "display_video(\"cat_theory.mp4\", 300, 300)"
   ]
  },
  {
   "cell_type": "markdown",
   "metadata": {},
   "source": [
    "## Zooming in (for intense effect)"
   ]
  },
  {
   "cell_type": "code",
   "execution_count": null,
   "metadata": {
    "collapsed": false
   },
   "outputs": [],
   "source": [
    "MAX_LENGTH = 1 # Seconds\n",
    "screensize = (500,281)\n",
    "\n",
    "caption = make_caption('did I push?', 2).set_pos('bottom')\n",
    "\n",
    "\n",
    "elmo = (ImageClip(\"res/elmo.jpg\").subclip(0, 2)\n",
    "                   .resize(height=screensize[1]/2)\n",
    "                   .resize(lambda t : 1+0.1*t)\n",
    "                   .set_duration(2))\n",
    "\n",
    "video = CompositeVideoClip( [elmo, caption] )\n",
    "\n",
    "video.write_videofile(\"did_i_push.mp4\", fps=24)\n",
    "display_video(\"did_i_push.mp4\")"
   ]
  },
  {
   "cell_type": "markdown",
   "metadata": {},
   "source": [
    "## Adding Sound\n"
   ]
  },
  {
   "cell_type": "code",
   "execution_count": null,
   "metadata": {
    "collapsed": false
   },
   "outputs": [],
   "source": [
    "from IPython.display import YouTubeVideo\n",
    "YouTubeVideo(\"SXIDN11fYyY\")"
   ]
  },
  {
   "cell_type": "code",
   "execution_count": null,
   "metadata": {
    "collapsed": false
   },
   "outputs": [],
   "source": [
    "display_video(\"res/listening.mp4\")"
   ]
  },
  {
   "cell_type": "code",
   "execution_count": null,
   "metadata": {
    "collapsed": false,
    "scrolled": true
   },
   "outputs": [],
   "source": [
    "MAX_LENGTH = 1 # Seconds\n",
    "screensize = (500,281)\n",
    "\n",
    "\n",
    "sound = AudioFileClip(\"res/chocobo.mp3\").subclip(0, 30)\n",
    "video = VideoFileClip(\"res/listening.mp4\").loop(4).set_audio(sound)\n",
    "caption = make_caption('visiting soundcloud', 30).set_pos('top')\n",
    "\n",
    "caption_bottom = make_caption('be like', 30).set_pos('bottom')\n",
    "\n",
    "video = CompositeVideoClip( [video, caption, caption_bottom] )\n",
    "\n",
    "video.write_videofile(\"soundcloud_these_days.mp4\", fps=24)\n",
    "\n",
    "HTML(\"\"\"\n",
    "    <video width=\"300 height=\"300\" controls style=\"margin:auto auto;\" >\n",
    "      <source src=\"soundcloud_these_days.mp4\" type=\"video/mp4\">\n",
    "    </video>\"\"\")"
   ]
  },
  {
   "cell_type": "code",
   "execution_count": null,
   "metadata": {
    "collapsed": true
   },
   "outputs": [],
   "source": []
  }
 ],
 "metadata": {
  "kernelspec": {
   "display_name": "Python 2",
   "language": "python",
   "name": "python2"
  },
  "language_info": {
   "codemirror_mode": {
    "name": "ipython",
    "version": 2
   },
   "file_extension": ".py",
   "mimetype": "text/x-python",
   "name": "python",
   "nbconvert_exporter": "python",
   "pygments_lexer": "ipython2",
   "version": "2.7.11"
  }
 },
 "nbformat": 4,
 "nbformat_minor": 1
}
