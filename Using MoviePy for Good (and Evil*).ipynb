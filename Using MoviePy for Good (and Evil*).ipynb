{
 "cells": [
  {
   "cell_type": "markdown",
   "metadata": {},
   "source": [
    "## Data Visualizations\n",
    "\n",
    "You can use MoviePy for data visualizations. Here's an example by [Zulko](http://zulko.github.io/blog/2014/11/29/data-animations-with-python-and-moviepy/)."
   ]
  },
  {
   "cell_type": "code",
   "execution_count": 2,
   "metadata": {
    "collapsed": false
   },
   "outputs": [
    {
     "name": "stderr",
     "output_type": "stream",
     "text": [
      "INFO: Could not import backend \"PyQt4\":\n",
      "No module named PyQt4\n",
      "INFO: Could not import backend \"PyQt5\":\n",
      "No module named PyQt5\n",
      "INFO: Could not import backend \"PySide\":\n",
      "No module named PySide\n",
      "INFO: Could not import backend \"Pyglet\":\n",
      "No module named pyglet\n",
      "INFO: Could not import backend \"Glfw\":\n",
      "GLFW library not found\n",
      "INFO: Could not import backend \"SDL2\":\n",
      "No module named sdl2\n",
      "INFO: Could not import backend \"wx\":\n",
      "No module named wx\n",
      "INFO: Could not import backend \"EGL\":\n",
      "EGL library not found\n"
     ]
    },
    {
     "ename": "RuntimeError",
     "evalue": "Could not import any of the backends. You need to install any of ['PyQt4', 'PyQt5', 'PySide', 'Pyglet', 'Glfw', 'SDL2', 'wx', 'EGL']. We recommend PyQt",
     "output_type": "error",
     "traceback": [
      "\u001b[0;31m---------------------------------------------------------------------------\u001b[0m",
      "\u001b[0;31mRuntimeError\u001b[0m                              Traceback (most recent call last)",
      "\u001b[0;32m<ipython-input-2-057185819a0b>\u001b[0m in \u001b[0;36m<module>\u001b[0;34m()\u001b[0m\n\u001b[1;32m      7\u001b[0m \u001b[0;32mfrom\u001b[0m \u001b[0mvispy\u001b[0m\u001b[0;34m.\u001b[0m\u001b[0mgloo\u001b[0m\u001b[0;34m.\u001b[0m\u001b[0mutil\u001b[0m \u001b[0;32mimport\u001b[0m \u001b[0m_screenshot\u001b[0m\u001b[0;34m\u001b[0m\u001b[0m\n\u001b[1;32m      8\u001b[0m \u001b[0;34m\u001b[0m\u001b[0m\n\u001b[0;32m----> 9\u001b[0;31m \u001b[0mcanvas\u001b[0m \u001b[0;34m=\u001b[0m \u001b[0mscene\u001b[0m\u001b[0;34m.\u001b[0m\u001b[0mSceneCanvas\u001b[0m\u001b[0;34m(\u001b[0m\u001b[0mkeys\u001b[0m\u001b[0;34m=\u001b[0m\u001b[0;34m'interactive'\u001b[0m\u001b[0;34m)\u001b[0m\u001b[0;34m\u001b[0m\u001b[0m\n\u001b[0m\u001b[1;32m     10\u001b[0m \u001b[0mview\u001b[0m \u001b[0;34m=\u001b[0m \u001b[0mcanvas\u001b[0m\u001b[0;34m.\u001b[0m\u001b[0mcentral_widget\u001b[0m\u001b[0;34m.\u001b[0m\u001b[0madd_view\u001b[0m\u001b[0;34m(\u001b[0m\u001b[0;34m)\u001b[0m\u001b[0;34m\u001b[0m\u001b[0m\n\u001b[1;32m     11\u001b[0m view.set_camera('turntable', mode='perspective', up='z', distance=2,\n",
      "\u001b[0;32m/Users/davidnuon/.virtualenvs/moviepy-talk/lib/python2.7/site-packages/vispy/scene/canvas.pyc\u001b[0m in \u001b[0;36m__init__\u001b[0;34m(self, title, size, position, show, autoswap, app, create_native, vsync, resizable, decorate, fullscreen, config, shared, keys, parent, dpi, always_on_top, px_scale, bgcolor)\u001b[0m\n\u001b[1;32m    126\u001b[0m             \u001b[0mtitle\u001b[0m\u001b[0;34m,\u001b[0m \u001b[0msize\u001b[0m\u001b[0;34m,\u001b[0m \u001b[0mposition\u001b[0m\u001b[0;34m,\u001b[0m \u001b[0mshow\u001b[0m\u001b[0;34m,\u001b[0m \u001b[0mautoswap\u001b[0m\u001b[0;34m,\u001b[0m \u001b[0mapp\u001b[0m\u001b[0;34m,\u001b[0m \u001b[0mcreate_native\u001b[0m\u001b[0;34m,\u001b[0m \u001b[0mvsync\u001b[0m\u001b[0;34m,\u001b[0m\u001b[0;34m\u001b[0m\u001b[0m\n\u001b[1;32m    127\u001b[0m             \u001b[0mresizable\u001b[0m\u001b[0;34m,\u001b[0m \u001b[0mdecorate\u001b[0m\u001b[0;34m,\u001b[0m \u001b[0mfullscreen\u001b[0m\u001b[0;34m,\u001b[0m \u001b[0mconfig\u001b[0m\u001b[0;34m,\u001b[0m \u001b[0mshared\u001b[0m\u001b[0;34m,\u001b[0m \u001b[0mkeys\u001b[0m\u001b[0;34m,\u001b[0m \u001b[0mparent\u001b[0m\u001b[0;34m,\u001b[0m \u001b[0mdpi\u001b[0m\u001b[0;34m,\u001b[0m\u001b[0;34m\u001b[0m\u001b[0m\n\u001b[0;32m--> 128\u001b[0;31m             always_on_top, px_scale)\n\u001b[0m\u001b[1;32m    129\u001b[0m         \u001b[0mself\u001b[0m\u001b[0;34m.\u001b[0m\u001b[0mevents\u001b[0m\u001b[0;34m.\u001b[0m\u001b[0mmouse_press\u001b[0m\u001b[0;34m.\u001b[0m\u001b[0mconnect\u001b[0m\u001b[0;34m(\u001b[0m\u001b[0mself\u001b[0m\u001b[0;34m.\u001b[0m\u001b[0m_process_mouse_event\u001b[0m\u001b[0;34m)\u001b[0m\u001b[0;34m\u001b[0m\u001b[0m\n\u001b[1;32m    130\u001b[0m         \u001b[0mself\u001b[0m\u001b[0;34m.\u001b[0m\u001b[0mevents\u001b[0m\u001b[0;34m.\u001b[0m\u001b[0mmouse_move\u001b[0m\u001b[0;34m.\u001b[0m\u001b[0mconnect\u001b[0m\u001b[0;34m(\u001b[0m\u001b[0mself\u001b[0m\u001b[0;34m.\u001b[0m\u001b[0m_process_mouse_event\u001b[0m\u001b[0;34m)\u001b[0m\u001b[0;34m\u001b[0m\u001b[0m\n",
      "\u001b[0;32m/Users/davidnuon/.virtualenvs/moviepy-talk/lib/python2.7/site-packages/vispy/app/canvas.pyc\u001b[0m in \u001b[0;36m__init__\u001b[0;34m(self, title, size, position, show, autoswap, app, create_native, vsync, resizable, decorate, fullscreen, config, shared, keys, parent, dpi, always_on_top, px_scale)\u001b[0m\n\u001b[1;32m    165\u001b[0m         \u001b[0;31m# Get app instance\u001b[0m\u001b[0;34m\u001b[0m\u001b[0;34m\u001b[0m\u001b[0m\n\u001b[1;32m    166\u001b[0m         \u001b[0;32mif\u001b[0m \u001b[0mapp\u001b[0m \u001b[0;32mis\u001b[0m \u001b[0mNone\u001b[0m\u001b[0;34m:\u001b[0m\u001b[0;34m\u001b[0m\u001b[0m\n\u001b[0;32m--> 167\u001b[0;31m             \u001b[0mself\u001b[0m\u001b[0;34m.\u001b[0m\u001b[0m_app\u001b[0m \u001b[0;34m=\u001b[0m \u001b[0muse_app\u001b[0m\u001b[0;34m(\u001b[0m\u001b[0mcall_reuse\u001b[0m\u001b[0;34m=\u001b[0m\u001b[0mFalse\u001b[0m\u001b[0;34m)\u001b[0m\u001b[0;34m\u001b[0m\u001b[0m\n\u001b[0m\u001b[1;32m    168\u001b[0m         \u001b[0;32melif\u001b[0m \u001b[0misinstance\u001b[0m\u001b[0;34m(\u001b[0m\u001b[0mapp\u001b[0m\u001b[0;34m,\u001b[0m \u001b[0mApplication\u001b[0m\u001b[0;34m)\u001b[0m\u001b[0;34m:\u001b[0m\u001b[0;34m\u001b[0m\u001b[0m\n\u001b[1;32m    169\u001b[0m             \u001b[0mself\u001b[0m\u001b[0;34m.\u001b[0m\u001b[0m_app\u001b[0m \u001b[0;34m=\u001b[0m \u001b[0mapp\u001b[0m\u001b[0;34m\u001b[0m\u001b[0m\n",
      "\u001b[0;32m/Users/davidnuon/.virtualenvs/moviepy-talk/lib/python2.7/site-packages/vispy/app/_default_app.pyc\u001b[0m in \u001b[0;36muse_app\u001b[0;34m(backend_name, call_reuse)\u001b[0m\n\u001b[1;32m     44\u001b[0m \u001b[0;34m\u001b[0m\u001b[0m\n\u001b[1;32m     45\u001b[0m     \u001b[0;31m# Create default app\u001b[0m\u001b[0;34m\u001b[0m\u001b[0;34m\u001b[0m\u001b[0m\n\u001b[0;32m---> 46\u001b[0;31m     \u001b[0mdefault_app\u001b[0m \u001b[0;34m=\u001b[0m \u001b[0mApplication\u001b[0m\u001b[0;34m(\u001b[0m\u001b[0mbackend_name\u001b[0m\u001b[0;34m)\u001b[0m\u001b[0;34m\u001b[0m\u001b[0m\n\u001b[0m\u001b[1;32m     47\u001b[0m     \u001b[0;32mreturn\u001b[0m \u001b[0mdefault_app\u001b[0m\u001b[0;34m\u001b[0m\u001b[0m\n\u001b[1;32m     48\u001b[0m \u001b[0;34m\u001b[0m\u001b[0m\n",
      "\u001b[0;32m/Users/davidnuon/.virtualenvs/moviepy-talk/lib/python2.7/site-packages/vispy/app/application.pyc\u001b[0m in \u001b[0;36m__init__\u001b[0;34m(self, backend_name)\u001b[0m\n\u001b[1;32m     47\u001b[0m         \u001b[0mself\u001b[0m\u001b[0;34m.\u001b[0m\u001b[0m_backend_module\u001b[0m \u001b[0;34m=\u001b[0m \u001b[0mNone\u001b[0m\u001b[0;34m\u001b[0m\u001b[0m\n\u001b[1;32m     48\u001b[0m         \u001b[0mself\u001b[0m\u001b[0;34m.\u001b[0m\u001b[0m_backend\u001b[0m \u001b[0;34m=\u001b[0m \u001b[0mNone\u001b[0m\u001b[0;34m\u001b[0m\u001b[0m\n\u001b[0;32m---> 49\u001b[0;31m         \u001b[0mself\u001b[0m\u001b[0;34m.\u001b[0m\u001b[0m_use\u001b[0m\u001b[0;34m(\u001b[0m\u001b[0mbackend_name\u001b[0m\u001b[0;34m)\u001b[0m\u001b[0;34m\u001b[0m\u001b[0m\n\u001b[0m\u001b[1;32m     50\u001b[0m \u001b[0;34m\u001b[0m\u001b[0m\n\u001b[1;32m     51\u001b[0m     \u001b[0;32mdef\u001b[0m \u001b[0m__repr__\u001b[0m\u001b[0;34m(\u001b[0m\u001b[0mself\u001b[0m\u001b[0;34m)\u001b[0m\u001b[0;34m:\u001b[0m\u001b[0;34m\u001b[0m\u001b[0m\n",
      "\u001b[0;32m/Users/davidnuon/.virtualenvs/moviepy-talk/lib/python2.7/site-packages/vispy/app/application.pyc\u001b[0m in \u001b[0;36m_use\u001b[0;34m(self, backend_name)\u001b[0m\n\u001b[1;32m    222\u001b[0m             raise RuntimeError('Could not import any of the backends. '\n\u001b[1;32m    223\u001b[0m                                \u001b[0;34m'You need to install any of %s. We recommend '\u001b[0m\u001b[0;34m\u001b[0m\u001b[0m\n\u001b[0;32m--> 224\u001b[0;31m                                'PyQt' % [b[0] for b in CORE_BACKENDS])\n\u001b[0m\u001b[1;32m    225\u001b[0m \u001b[0;34m\u001b[0m\u001b[0m\n\u001b[1;32m    226\u001b[0m         \u001b[0;31m# Store classes for app backend and canvas backend\u001b[0m\u001b[0;34m\u001b[0m\u001b[0;34m\u001b[0m\u001b[0m\n",
      "\u001b[0;31mRuntimeError\u001b[0m: Could not import any of the backends. You need to install any of ['PyQt4', 'PyQt5', 'PySide', 'Pyglet', 'Glfw', 'SDL2', 'wx', 'EGL']. We recommend PyQt"
     ]
    }
   ],
   "source": [
    "# Thanks Zulko!\n",
    "# http://zulko.github.io/blog/2014/11/29/data-animations-with-python-and-moviepy/\n",
    "\n",
    "from moviepy.editor import VideoClip\n",
    "import numpy as np\n",
    "from vispy import app, scene\n",
    "from vispy.gloo.util import _screenshot\n",
    "\n",
    "canvas = scene.SceneCanvas(keys='interactive')\n",
    "view = canvas.central_widget.add_view()\n",
    "view.set_camera('turntable', mode='perspective', up='z', distance=2,\n",
    "                azimuth=30., elevation=65.)\n",
    "\n",
    "xx, yy = np.arange(-1,1,.02),np.arange(-1,1,.02)\n",
    "X,Y = np.meshgrid(xx,yy)\n",
    "R = np.sqrt(X**2+Y**2)\n",
    "Z = lambda t : 0.1*np.sin(10*R-2*np.pi*t)\n",
    "surface = scene.visuals.SurfacePlot(x= xx-0.1, y=yy+0.2, z= Z(0),\n",
    "                        shading='smooth', color=(0.5, 0.5, 1, 1))\n",
    "view.add(surface)\n",
    "canvas.show()\n",
    "\n",
    "# ANIMATE WITH MOVIEPY\n",
    "\n",
    "def make_frame(t):\n",
    "    surface.set_data(z = Z(t)) # Update the mathematical surface\n",
    "    canvas.on_draw(None) # Update the image on Vispy's canvas\n",
    "    return _screenshot((0,0,canvas.size[0],canvas.size[1]))[:,:,:3]\n",
    "\n",
    "animation = VideoClip(make_frame, duration=1).resize(width=350)\n",
    "animation.write_gif('sinc_vispy.gif', fps=20, opt='OptimizePlus')"
   ]
  },
  {
   "cell_type": "markdown",
   "metadata": {},
   "source": [
    "## Using PyGame\n",
    "\n",
    "Sometimes you need somthing more advanced than rendering a mask or text on a video. As long as you can generate an 2D NumPy array of colors, you can anything!\n",
    "\n",
    "Here's an example using PyGame:"
   ]
  },
  {
   "cell_type": "code",
   "execution_count": null,
   "metadata": {
    "collapsed": false,
    "scrolled": true
   },
   "outputs": [],
   "source": [
    "import os\n",
    "import pygame\n",
    "import moviepy.editor as mpy\n",
    "\n",
    "# Headless SDL\n",
    "os.environ['SDL_VIDEODRIVER'] = 'dummy'\n",
    "\n",
    "# Start up pygame\n",
    "pygame.init()\n",
    "\n",
    "# Going to hide the main display (make it small)\n",
    "pygame.display.set_mode((1,1))\n",
    "\n",
    "# Buffer we're going to draw changes in\n",
    "screen = pygame.Surface((1024, 768), pygame.SRCALPHA, 32)\n",
    "\n",
    "# Get your own duck\n",
    "duckface = pygame.image.load(\"duck.bmp\")\n",
    "position = duckface.get_rect()\n",
    "\n",
    "# Function to get a frame \n",
    "# Returns a NumPy-style array size WIDTHxHEIGHTx3\n",
    "# Represeting a 2D RGB field. (Each component is 8-bit)\n",
    "\n",
    "def next_frame(dt):\n",
    "    global position # globals, lol\n",
    "\n",
    "    # Translate by (2, 0)\n",
    "    position = position.move(2, 0)\n",
    "\n",
    "    # Fill the screen with black\n",
    "    screen.fill(0x00000000)\n",
    "\n",
    "    # Draw duckface\n",
    "    screen.blit(duckface, position)\n",
    "\n",
    "    # Bring the image from the other buffer to \n",
    "    # main\n",
    "    pygame.display.flip()\n",
    "\n",
    "    # For some reason, we have to do this or\n",
    "    # else the image comes out flipped\n",
    "    newscreen = pygame.transform.rotate(screen, 90)\n",
    "\n",
    "    # Reverse the columns of the pixel array\n",
    "    # We could do it with MoviePy with .fx(vfx.mirror_y)\n",
    "    return pygame.surfarray.array3d(newscreen)[:,::-1]\n",
    "    \n",
    "\n",
    "duration = 3 # in seconds\n",
    "animation = mpy.VideoClip(next_frame, duration=duration)\n",
    "animation.write_videofile(\"./video.mp4\", fps=60) # 60fps or die"
   ]
  },
  {
   "cell_type": "markdown",
   "metadata": {},
   "source": [
    "## Dependencies\n",
    "\n",
    "I've only tested this on macOS. Please update the instructions if you find yourself installing this on other platforms."
   ]
  },
  {
   "cell_type": "markdown",
   "metadata": {},
   "source": [
    "### Install VTK\n",
    "\n",
    "`brew install vtk --with-qt` (Be warned: this takes a while)"
   ]
  },
  {
   "cell_type": "code",
   "execution_count": null,
   "metadata": {
    "collapsed": true
   },
   "outputs": [],
   "source": [
    "# pip requirements.txt\n",
    "\n"
   ]
  }
 ],
 "metadata": {
  "kernelspec": {
   "display_name": "Python 2",
   "language": "python",
   "name": "python2"
  },
  "language_info": {
   "codemirror_mode": {
    "name": "ipython",
    "version": 2
   },
   "file_extension": ".py",
   "mimetype": "text/x-python",
   "name": "python",
   "nbconvert_exporter": "python",
   "pygments_lexer": "ipython2",
   "version": "2.7.11"
  }
 },
 "nbformat": 4,
 "nbformat_minor": 1
}
