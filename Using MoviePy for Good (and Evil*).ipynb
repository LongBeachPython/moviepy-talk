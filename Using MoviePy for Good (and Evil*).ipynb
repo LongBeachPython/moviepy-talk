{
 "cells": [
  {
   "cell_type": "markdown",
   "metadata": {},
   "source": [
    "# Using MoviePy for Good (and Evil\\*) "
   ]
  },
  {
   "cell_type": "markdown",
   "metadata": {},
   "source": [
    "Lorem Ipsum is simply dummy text of the printing and typesetting industry. Lorem Ipsum has been the industry's standard dummy text ever since the 1500s, when an unknown printer took a galley of type and scrambled it to make a type specimen book. It has survived not only five centuries, but also the leap into electronic typesetting, remaining essentially unchanged. It was popularised in the 1960s with the release of Letraset sheets containing Lorem Ipsum passages, and more recently with desktop publishing software like Aldus PageMaker including versions of Lorem Ipsum.\n"
   ]
  },
  {
   "cell_type": "markdown",
   "metadata": {},
   "source": [
    "## Data Visualizations\n",
    "\n",
    "You can use MoviePy for data visualizations. Here's an example by [Zulko](http://zulko.github.io/blog/2014/11/29/data-animations-with-python-and-moviepy/)."
   ]
  },
  {
   "cell_type": "code",
   "execution_count": null,
   "metadata": {
    "collapsed": false,
    "scrolled": true
   },
   "outputs": [],
   "source": [
    "import matplotlib.pyplot as plt\n",
    "import numpy as np\n",
    "from moviepy.video.io.bindings import mplfig_to_npimage\n",
    "import moviepy.editor as mpy\n",
    "from IPython.display import Image\n",
    "\n",
    "# DRAW A FIGURE WITH MATPLOTLIB\n",
    "\n",
    "duration = 2\n",
    "\n",
    "fig_mpl, ax = plt.subplots(1,figsize=(5,3), facecolor='white')\n",
    "xx = np.linspace(-2,2,200) # the x vector\n",
    "zz = lambda d: np.sinc(xx**2)+np.sin(xx+d) # the (changing) z vector\n",
    "ax.set_title(\"Elevation in y=0\")\n",
    "ax.set_ylim(-1.5,2.5)\n",
    "line, = ax.plot(xx, zz(0), lw=3)\n",
    "\n",
    "# ANIMATE WITH MOVIEPY (UPDATE THE CURVE FOR EACH t). MAKE A GIF.\n",
    "\n",
    "def make_frame_mpl(t):\n",
    "    line.set_ydata( zz(2*np.pi*t/duration))  # <= Update the curve\n",
    "    return mplfig_to_npimage(fig_mpl) # RGB image of the figure\n",
    "\n",
    "animation =mpy.VideoClip(make_frame_mpl, duration=duration)\n",
    "animation.write_gif(\"./sinc_mpl.gif\", fps=20)\n",
    "\n",
    "Image(url=\"sinc_mpl.gif\") "
   ]
  },
  {
   "cell_type": "markdown",
   "metadata": {},
   "source": [
    "## Using PyGame\n",
    "\n",
    "Sometimes you need somthing more advanced than rendering a mask or text on a video. As long as you can generate an 2D NumPy array of colors, you can anything!\n",
    "\n",
    "Here's an example using PyGame:"
   ]
  },
  {
   "cell_type": "code",
   "execution_count": null,
   "metadata": {
    "collapsed": false,
    "scrolled": false
   },
   "outputs": [],
   "source": [
    "import os\n",
    "import pygame\n",
    "import moviepy.editor as mpy\n",
    "from IPython.display import HTML\n",
    "\n",
    "# Headless SDL\n",
    "os.environ['SDL_VIDEODRIVER'] = 'dummy'\n",
    "\n",
    "# Start up pygame\n",
    "pygame.init()\n",
    "\n",
    "# Going to hide the main display (make it small)\n",
    "pygame.display.set_mode((1,1))\n",
    "\n",
    "# Buffer we're going to draw changes in\n",
    "screen = pygame.Surface((1024, 768), pygame.SRCALPHA, 32)\n",
    "\n",
    "# Get your own duck\n",
    "duckface = pygame.image.load(\"duck.bmp\")\n",
    "position = duckface.get_rect()\n",
    "\n",
    "# Function to get a frame \n",
    "# Returns a NumPy-style array size WIDTHxHEIGHTx3\n",
    "# Represeting a 2D RGB field. (Each component is 8-bit)\n",
    "\n",
    "def next_frame(dt):\n",
    "    global position # globals, lol\n",
    "\n",
    "    # Translate by (2, 0)\n",
    "    position = position.move(2, 0)\n",
    "\n",
    "    # Fill the screen with black\n",
    "    screen.fill(0x00000000)\n",
    "\n",
    "    # Draw duckface\n",
    "    screen.blit(duckface, position)\n",
    "\n",
    "    # Bring the image from the other buffer to \n",
    "    # main\n",
    "    pygame.display.flip()\n",
    "\n",
    "    # For some reason, we have to do this or\n",
    "    # else the image comes out flipped\n",
    "    newscreen = pygame.transform.rotate(screen, 90)\n",
    "\n",
    "    # Reverse the columns of the pixel array\n",
    "    # We could do it with MoviePy with .fx(vfx.mirror_y)\n",
    "    return pygame.surfarray.array3d(newscreen)[:,::-1]\n",
    "    \n",
    "\n",
    "duration = 1 # in seconds\n",
    "animation = mpy.VideoClip(next_frame, duration=duration)\n",
    "animation.write_videofile(\"./video.mp4\", fps=60) # 60fps or die\n",
    "\n",
    "HTML(\"\"\"\n",
    "<video width=\"1024\" height=\"768\" controls>\n",
    "  <source src=\"./video.mp4\" type=\"video/mp4\">\n",
    "</video>\n",
    "\"\"\")\n"
   ]
  },
  {
   "cell_type": "markdown",
   "metadata": {},
   "source": [
    "## Dependencies\n",
    "\n",
    "I've only tested this on macOS. Please update the instructions if you find yourself installing this on other platforms. Install with `pip install -r requirements.txt`"
   ]
  },
  {
   "cell_type": "markdown",
   "metadata": {
    "collapsed": true
   },
   "source": [
    "```\n",
    "# requirements.txt\n",
    "\n",
    "appnope==0.1.0\n",
    "apptools==4.4.0\n",
    "configobj==5.0.6\n",
    "cycler==0.10.0\n",
    "decorator==4.0.10\n",
    "entrypoints==0.2.2\n",
    "imageio==1.5\n",
    "ipykernel==4.4.1\n",
    "ipython==5.1.0\n",
    "ipython-genutils==0.1.0\n",
    "ipywidgets==5.2.2\n",
    "Jinja2==2.8\n",
    "jsonschema==2.5.1\n",
    "jupyter==1.0.0\n",
    "jupyter-client==4.3.0\n",
    "jupyter-console==5.0.0\n",
    "jupyter-core==4.1.1\n",
    "MarkupSafe==0.23\n",
    "matplotlib==1.5.2\n",
    "mistune==0.7.3\n",
    "moviepy==0.2.2.11\n",
    "nbconvert==4.2.0\n",
    "nbformat==4.1.0\n",
    "notebook==4.2.2\n",
    "numpy==1.11.1\n",
    "pexpect==4.2.1\n",
    "pickleshare==0.7.4\n",
    "prompt-toolkit==1.0.7\n",
    "ptyprocess==0.5.1\n",
    "pyface==5.1.0\n",
    "pygame==1.9.2b6\n",
    "Pygments==2.1.3\n",
    "pyparsing==2.1.8\n",
    "python-dateutil==2.5.3\n",
    "pytz==2016.6.1\n",
    "pyzmq==15.4.0\n",
    "qtconsole==4.2.1\n",
    "simplegeneric==0.8.1\n",
    "six==1.10.0\n",
    "terminado==0.6\n",
    "tornado==4.4.1\n",
    "tqdm==4.8.4\n",
    "traitlets==4.2.2\n",
    "traits==4.5.0\n",
    "traitsui==5.1.0\n",
    "wcwidth==0.1.7\n",
    "widgetsnbextension==1.2.6\n",
    "```"
   ]
  }
 ],
 "metadata": {
  "kernelspec": {
   "display_name": "Python 3",
   "language": "python",
   "name": "python3"
  },
  "language_info": {
   "codemirror_mode": {
    "name": "ipython",
    "version": 3
   },
   "file_extension": ".py",
   "mimetype": "text/x-python",
   "name": "python",
   "nbconvert_exporter": "python",
   "pygments_lexer": "ipython3",
   "version": "3.5.1"
  }
 },
 "nbformat": 4,
 "nbformat_minor": 1
}
