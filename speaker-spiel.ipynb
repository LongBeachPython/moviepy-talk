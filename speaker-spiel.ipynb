{
 "cells": [
  {
   "cell_type": "markdown",
   "metadata": {},
   "source": [
    "![Hi, I'm David Nuon](img/intro-deck/01.png)\n",
    "![I work a few floors below](img/intro-deck/02.png)\n",
    "<!--\n",
    "Fun Easter Egg for you kiddos\n",
    "![After hours, when I'm not trying to save the world, I make dumb shit](img/intro-deck/00.png)\n",
    "-->\n",
    "![Code && Coffee!](img/intro-deck/03.png)"
   ]
  },
  {
   "cell_type": "code",
   "execution_count": null,
   "metadata": {
    "collapsed": true
   },
   "outputs": [],
   "source": []
  }
 ],
 "metadata": {
  "kernelspec": {
   "display_name": "Python 2",
   "language": "python",
   "name": "python2"
  },
  "language_info": {
   "codemirror_mode": {
    "name": "ipython",
    "version": 2
   },
   "file_extension": ".py",
   "mimetype": "text/x-python",
   "name": "python",
   "nbconvert_exporter": "python",
   "pygments_lexer": "ipython2",
   "version": "2.7.11"
  }
 },
 "nbformat": 4,
 "nbformat_minor": 1
}
