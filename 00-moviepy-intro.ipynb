{
 "cells": [
  {
   "cell_type": "markdown",
   "metadata": {},
   "source": [
    "# What is MoviePy?"
   ]
  },
  {
   "cell_type": "markdown",
   "metadata": {},
   "source": [
    "From [the MoviePy Site](http://zulko.github.io/moviepy/)\n",
    "\n",
    "> MoviePy is a Python module for video editing, which can be used for basic operations (like cuts, concatenations, title insertions), video compositing (a.k.a. non-linear editing), video processing, or to create advanced effects. It can read and write the most common video formats, including GIF.\n"
   ]
  },
  {
   "cell_type": "markdown",
   "metadata": {},
   "source": [
    "## Who does this and why?\n",
    "\n",
    "- Data Visualizations\n",
    "- Rendering Simulations\n",
    "- Making product video / mockups\n",
    "\n",
    "<br />\n",
    "<br />\n",
    "<br />\n",
    "<br />\n",
    "<br />\n",
    "<br />\n",
    "<br />\n",
    "<br />\n",
    "<br />\n",
    "<br />\n",
    "<br />\n",
    "<br />\n",
    "<br />\n",
    "<br />\n",
    "<br />\n",
    "<br />\n",
    "<br />\n",
    "\n",
    "\n",
    "![Mashable](img/mashable.png)\n",
    "<span style=\"font-size:60px; padding:30px; display:block;\">VIEWS 🔥🔥🔥💯💯💯😂😂😂</span>\n",
    "  - Snackable content is becoming more and more significant.\n",
    "     - \\*cough\\* Stealing Youtube videos \\*cough\\*\n",
    "  - Some companies providers of snackable cotnent:\n",
    "      - Mashable\n",
    "      - BuzzFeed\n",
    "      - I N S I D E R\n",
    "      - Most of Reddit \n",
    "      - 9GAG\n",
    "      - Business Insider (Buzzfeed for grown-ups)\n",
    "  - It's getting harder and harder to meet demand\n",
    "      - [As Online Video Surges, Publishers Turn to Automation\n",
    "](http://www.nytimes.com/2016/07/11/business/media/as-online-video-surges-publishers-turn-to-automation.html?_r=0)"
   ]
  },
  {
   "cell_type": "markdown",
   "metadata": {},
   "source": [
    "## Why should you do this ?\n"
   ]
  },
  {
   "cell_type": "code",
   "execution_count": 1,
   "metadata": {
    "collapsed": false
   },
   "outputs": [
    {
     "name": "stdout",
     "output_type": "stream",
     "text": [
      "[MoviePy] >>>> Building video shrug.mp4\n",
      "[MoviePy] Writing video shrug.mp4\n"
     ]
    },
    {
     "name": "stderr",
     "output_type": "stream",
     "text": [
      " 96%|█████████▌| 25/26 [00:00<00:00, 115.43it/s]\n"
     ]
    },
    {
     "name": "stdout",
     "output_type": "stream",
     "text": [
      "[MoviePy] Done.\n",
      "[MoviePy] >>>> Video ready: shrug.mp4 \n",
      "\n"
     ]
    },
    {
     "data": {
      "text/html": [
       "\n",
       "<video width=\"500\" height=\"500\" style=\"margin:auto auto\" autoplay loop=\"true\" >\n",
       "  <source src=\"shrug.mp4\" type=\"video/mp4\">\n",
       "</video>\n"
      ],
      "text/plain": [
       "<IPython.core.display.HTML object>"
      ]
     },
     "execution_count": 1,
     "metadata": {},
     "output_type": "execute_result"
    }
   ],
   "source": [
    "from moviepy.editor import *\n",
    "from IPython.display import HTML\n",
    "\n",
    "MAX_LENGTH = 1\n",
    "screensize = (500,281)\n",
    "\n",
    "shrug = VideoFileClip(\"res/shrug.gif\").subclip(0, MAX_LENGTH)\n",
    "\n",
    "caption = TextClip('WHY NOT?',\n",
    "                    color='white', font=\"Impact\", kerning = -3, \n",
    "                    fontsize=75, stroke_color='black', stroke_width=3) \n",
    "\n",
    "video = CompositeVideoClip( [shrug, caption.set_pos('bottom').set_duration(MAX_LENGTH)] )\n",
    "\n",
    "video.write_videofile(\"shrug.mp4\")\n",
    "\n",
    "HTML(\"\"\"\n",
    "<video width=\"500\" height=\"500\" style=\"margin:auto auto\" autoplay loop=\"true\" >\n",
    "  <source src=\"shrug.mp4\" type=\"video/mp4\">\n",
    "</video>\n",
    "\"\"\")"
   ]
  },
  {
   "cell_type": "markdown",
   "metadata": {
    "collapsed": true
   },
   "source": [
    "## Dependencies\n",
    "\n",
    "I've only tested this on macOS in Python 2.7\n",
    "\n",
    "You need ImageMagick, FFMpeg and OpenCV instaleld.\n",
    "\n",
    "Please update the instructions if you find yourself installing this on other platforms. Install with `pip install -r requirements.txt`"
   ]
  },
  {
   "cell_type": "code",
   "execution_count": null,
   "metadata": {
    "collapsed": true
   },
   "outputs": [],
   "source": []
  }
 ],
 "metadata": {
  "kernelspec": {
   "display_name": "Python 2",
   "language": "python",
   "name": "python2"
  },
  "language_info": {
   "codemirror_mode": {
    "name": "ipython",
    "version": 2
   },
   "file_extension": ".py",
   "mimetype": "text/x-python",
   "name": "python",
   "nbconvert_exporter": "python",
   "pygments_lexer": "ipython2",
   "version": "2.7.11"
  }
 },
 "nbformat": 4,
 "nbformat_minor": 1
}
