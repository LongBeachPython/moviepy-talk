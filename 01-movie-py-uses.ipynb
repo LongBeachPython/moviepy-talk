{
 "cells": [
  {
   "cell_type": "markdown",
   "metadata": {
    "button": false,
    "deletable": true,
    "new_sheet": false,
    "run_control": {
     "read_only": false
    }
   },
   "source": [
    "# Using MoviePy for Good (and Evil\\*) "
   ]
  },
  {
   "cell_type": "markdown",
   "metadata": {
    "button": false,
    "deletable": true,
    "new_sheet": false,
    "run_control": {
     "read_only": false
    }
   },
   "source": [
    "\n"
   ]
  },
  {
   "cell_type": "markdown",
   "metadata": {
    "button": false,
    "deletable": true,
    "new_sheet": false,
    "run_control": {
     "read_only": false
    }
   },
   "source": [
    "## Helper Functions"
   ]
  },
  {
   "cell_type": "code",
   "execution_count": null,
   "metadata": {
    "button": false,
    "collapsed": false,
    "deletable": true,
    "new_sheet": false,
    "run_control": {
     "read_only": false
    },
    "scrolled": false
   },
   "outputs": [],
   "source": [
    "from IPython.display import HTML\n",
    "\n",
    "def display_video(url, width=500, height=500):\n",
    "    return HTML(\"\"\"\n",
    "    <video width=\"%d\" height=\"%d\" style=\"margin:auto auto;\" autoplay loop=\"true\" >\n",
    "      <source src=\"%s\" type=\"video/mp4\">\n",
    "    </video>\n",
    "    \"\"\" % (width, height, url))"
   ]
  },
  {
   "cell_type": "markdown",
   "metadata": {
    "button": false,
    "deletable": true,
    "new_sheet": false,
    "run_control": {
     "read_only": false
    }
   },
   "source": [
    "## Data Visualizations\n",
    "\n",
    "Because this is a Python talk in 2016, I'm obligated to show a plot.\n",
    "\n",
    "You can use MoviePy for data visualizations. Below is an example by [Zulko](http://zulko.github.io/blog/2014/11/29/data-animations-with-python-and-moviepy/). (MoviePy's author)\n",
    "x\n",
    "It shows the 2D slice of a 3D plot at each frame. This is the only plot you're going to see from me tonight.\n",
    "\n",
    "\\begin{align}\n",
    "z & = sinc(x^2) + sin(x+y)\n",
    "\\end{align}"
   ]
  },
  {
   "cell_type": "code",
   "execution_count": null,
   "metadata": {
    "button": false,
    "collapsed": false,
    "deletable": true,
    "new_sheet": false,
    "run_control": {
     "read_only": false
    },
    "scrolled": false
   },
   "outputs": [],
   "source": [
    "import matplotlib.pyplot as plt\n",
    "import numpy as np\n",
    "from moviepy.video.io.bindings import mplfig_to_npimage\n",
    "import moviepy.editor as mpy\n",
    "\n",
    "# DRAW A FIGURE WITH MATPLOTLIB\n",
    "\n",
    "duration = 2\n",
    "\n",
    "fig_mpl, ax = plt.subplots(1,figsize=(5,3), facecolor='white')\n",
    "xx = np.linspace(-2,2,200) # the x vector\n",
    "zz = lambda d: np.sinc(xx**2)+np.sin(xx+d) # the (changing) z vector\n",
    "ax.set_title(\"Elevation in y=0\")\n",
    "ax.set_ylim(-1.5,2.5)\n",
    "line, = ax.plot(xx, zz(0), lw=3)\n",
    "\n",
    "# ANIMATE WITH MOVIEPY (UPDATE THE CURVE FOR EACH t). MAKE A GIF.\n",
    "\n",
    "def make_frame_mpl(t):\n",
    "    line.set_ydata( zz(2*np.pi*t/duration))  # <= Update the curve\n",
    "    return mplfig_to_npimage(fig_mpl) # RGB image of the figure\n",
    "\n",
    "animation =mpy.VideoClip(make_frame_mpl, duration=duration)\n",
    "animation.write_videofile(\"./sinc_mpl.mp4\", fps=60)\n",
    "\n",
    "display_video('sinc_mpl.mp4', 512, 384)"
   ]
  },
  {
   "cell_type": "markdown",
   "metadata": {
    "button": false,
    "deletable": true,
    "new_sheet": false,
    "run_control": {
     "read_only": false
    }
   },
   "source": [
    "## Using PyGame\n",
    "\n",
    "Sometimes you need somthing more advanced than rendering a mask or text on a video. As long as you can generate an 2D NumPy array of colors, you can anything!\n",
    "\n",
    "Here's an example using PyGame:"
   ]
  },
  {
   "cell_type": "code",
   "execution_count": null,
   "metadata": {
    "button": false,
    "collapsed": false,
    "deletable": true,
    "new_sheet": false,
    "run_control": {
     "read_only": false
    },
    "scrolled": false
   },
   "outputs": [],
   "source": [
    "import os\n",
    "import pygame\n",
    "import moviepy.editor as mpy\n",
    "from IPython.display import HTML\n",
    "\n",
    "# Headless SDL\n",
    "os.environ['SDL_VIDEODRIVER'] = 'dummy'\n",
    "\n",
    "# Start up pygame\n",
    "pygame.init()\n",
    "\n",
    "SCREEN_SIZE = (1024, 768)\n",
    "# Going to hide the main display (make it small)\n",
    "pygame.display.set_mode((1,1))\n",
    "\n",
    "# Buffer we're going to draw changes in\n",
    "screen = pygame.Surface(SCREEN_SIZE, pygame.SRCALPHA, 32)\n",
    "\n",
    "# Get your duck and pipe\n",
    "duckface = pygame.image.load(\"res/bird.png\").convert_alpha()\n",
    "pipe = pygame.image.load(\"res/pipe.png\").convert_alpha()\n",
    "\n",
    "# Scale the pipe and move it\n",
    "scale = 5\n",
    "w,h = pipe.get_size()\n",
    "pipe = pygame.transform.scale(pipe, (int(w*scale), int(h*scale)))\n",
    "pipe_flipped = pygame.transform.flip(pipe, False, True)\n",
    "\n",
    "# Rectangles we will use to render our sprites\n",
    "duck_position = duckface.get_rect()\n",
    "pipe_position = pipe.get_rect().move(0, 350)\n",
    "dx = 5\n",
    "dy = 3\n",
    "\n",
    "# initialize font; must be called after 'pygame.init()' to avoid 'Font not Initialized' error\n",
    "text_font = pygame.font.SysFont(\"Impact\", 200)\n",
    "\n",
    "\n",
    "# Function to get a frame \n",
    "# Returns a NumPy-style array size WIDTHxHEIGHTx3\n",
    "# Represeting a 2D RGB Array. (Each component is 8-bit)\n",
    "\n",
    "def next_frame(dt):\n",
    "    global duck_position # globals, lol\n",
    "    \n",
    "    # Translate by (2, 0)\n",
    "    duck_position = duck_position.move(dx, dy)\n",
    "\n",
    "    # Fill the screen with skyblue\n",
    "    screen.fill(0xFF87CEEB)\n",
    "\n",
    "    angle = (-1 * float(duck_position.y)/SCREEN_SIZE[0] * 360)\n",
    "    duckface_rotated = pygame.transform.rotate( duckface,angle )\n",
    "    # Draw duckface\n",
    "    screen.blit(duckface_rotated, duck_position)\n",
    "    \n",
    "    # Draw the pipes\n",
    "    for i in range(0, 8):\n",
    "        x = i * 120\n",
    "        screen.blit(pipe, pipe_position.move(x, x/2))    \n",
    "\n",
    "    screen.blit(pipe_flipped, pipe_position.move(800, -700))  \n",
    " \n",
    "    # Draw our label\n",
    "    label = text_font.render(u\"θ:%.3g°\" % angle, 1, (255,255,255))    \n",
    "    screen.blit(label, (30, 30))\n",
    "    \n",
    "    # Bring the image from the other buffer to \n",
    "    # main\n",
    "    pygame.display.flip()\n",
    "\n",
    "    # For some reason, we have to do this or\n",
    "    # else the image comes out flipped\n",
    "    newscreen = pygame.transform.rotate(screen, 90)\n",
    "\n",
    "    # Reverse the columns of the pixel array\n",
    "    # We could do it with MoviePy with .fx(vfx.mirror_y)\n",
    "    return pygame.surfarray.array3d(newscreen)[:,::-1]\n",
    "    \n",
    "\n",
    "duration = 2 # in seconds\n",
    "animation = mpy.VideoClip(next_frame, duration=duration)\n",
    "animation.write_videofile(\"./video.mp4\", fps=60) \n",
    "\n",
    "\n",
    "display_video('video.mp4')\n"
   ]
  },
  {
   "cell_type": "markdown",
   "metadata": {
    "button": false,
    "deletable": true,
    "new_sheet": false,
    "run_control": {
     "read_only": false
    }
   },
   "source": [
    "## Making Contemporary Video (GIF Compositing)\n"
   ]
  },
  {
   "cell_type": "code",
   "execution_count": null,
   "metadata": {
    "button": false,
    "collapsed": false,
    "deletable": true,
    "new_sheet": false,
    "run_control": {
     "read_only": false
    },
    "scrolled": true
   },
   "outputs": [],
   "source": [
    "HTML(\"\"\"\n",
    "<div style=\"width:600px; margin:0 auto;\"><img  src=\"./res/datboi.gif\" width=\"200\" height=\"200\" style=\"display:block;float:left;\">\n",
    "<video width=\"300\" height=\"300\" autoplay loop=\"true\" >\n",
    "  <source src=\"./res/sunset.mp4\" type=\"video/mp4\">\n",
    "</video></div>\"\"\")"
   ]
  },
  {
   "cell_type": "code",
   "execution_count": null,
   "metadata": {
    "button": false,
    "collapsed": false,
    "deletable": true,
    "new_sheet": false,
    "run_control": {
     "read_only": false
    },
    "scrolled": false
   },
   "outputs": [],
   "source": [
    "# Import everything needed to edit video clips\n",
    "from moviepy.editor import *\n",
    "\n",
    "\n",
    "# Because it's a transparent GIF, it has a mask.\n",
    "clip = VideoFileClip(\"res/datboi.gif\", has_mask=True).subclip(0,.3)\n",
    "sunset = VideoFileClip(\"res/sunset.mp4\").subclip(0,.3)\n",
    "\n",
    "video = CompositeVideoClip([sunset, clip])\n",
    "\n",
    "# Write the result to a file\n",
    "video.write_videofile(\"datboi_over_sunset.mp4\",fps=24)\n",
    "\n",
    "display_video('datboi_over_sunset.mp4')"
   ]
  }
 ],
 "metadata": {
  "kernelspec": {
   "display_name": "Python 2",
   "language": "python",
   "name": "python2"
  },
  "language_info": {
   "codemirror_mode": {
    "name": "ipython",
    "version": 2
   },
   "file_extension": ".py",
   "mimetype": "text/x-python",
   "name": "python",
   "nbconvert_exporter": "python",
   "pygments_lexer": "ipython2",
   "version": "2.7.11"
  }
 },
 "nbformat": 4,
 "nbformat_minor": 1
}
