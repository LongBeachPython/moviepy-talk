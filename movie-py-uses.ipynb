{
 "cells": [
  {
   "cell_type": "markdown",
   "metadata": {},
   "source": [
    "# Using MoviePy for Good (and Evil\\*) "
   ]
  },
  {
   "cell_type": "markdown",
   "metadata": {},
   "source": [
    "\n"
   ]
  },
  {
   "cell_type": "markdown",
   "metadata": {},
   "source": [
    "## Helper Functions"
   ]
  },
  {
   "cell_type": "code",
   "execution_count": 35,
   "metadata": {
    "collapsed": false,
    "scrolled": false
   },
   "outputs": [],
   "source": [
    "from IPython.display import HTML\n",
    "\n",
    "def display_video(url, width=500, height=500):\n",
    "    return HTML(\"\"\"\n",
    "    <video width=\"%d\" height=\"%d\" style=\"margin:auto auto;\" autoplay loop=\"true\" >\n",
    "      <source src=\"%s\" type=\"video/mp4\">\n",
    "    </video>\n",
    "    \"\"\" % (width, height, url))"
   ]
  },
  {
   "cell_type": "markdown",
   "metadata": {},
   "source": [
    "## Data Visualizations\n",
    "\n",
    "You can use MoviePy for data visualizations. Here's an example by [Zulko](http://zulko.github.io/blog/2014/11/29/data-animations-with-python-and-moviepy/)."
   ]
  },
  {
   "cell_type": "code",
   "execution_count": 31,
   "metadata": {
    "collapsed": false,
    "scrolled": false
   },
   "outputs": [
    {
     "name": "stdout",
     "output_type": "stream",
     "text": [
      "[MoviePy] >>>> Building video ./sinc_mpl.mp4\n",
      "[MoviePy] Writing video ./sinc_mpl.mp4\n"
     ]
    },
    {
     "name": "stderr",
     "output_type": "stream",
     "text": [
      " 99%|█████████▉| 120/121 [00:03<00:00, 40.30it/s]"
     ]
    },
    {
     "name": "stdout",
     "output_type": "stream",
     "text": [
      "[MoviePy] Done.\n",
      "[MoviePy] >>>> Video ready: ./sinc_mpl.mp4 \n",
      "\n"
     ]
    },
    {
     "name": "stderr",
     "output_type": "stream",
     "text": [
      "\n"
     ]
    },
    {
     "data": {
      "text/html": [
       "\n",
       "    <video width=\"512\" height=\"384\" style=\"margin:auto auto;\" autoplay loop=\"true\" >\n",
       "      <source src=\"sinc_mpl.mp4\" type=\"video/mp4\">\n",
       "    </video>\n",
       "    "
      ],
      "text/plain": [
       "<IPython.core.display.HTML object>"
      ]
     },
     "execution_count": 31,
     "metadata": {},
     "output_type": "execute_result"
    }
   ],
   "source": [
    "import matplotlib.pyplot as plt\n",
    "import numpy as np\n",
    "from moviepy.video.io.bindings import mplfig_to_npimage\n",
    "import moviepy.editor as mpy\n",
    "\n",
    "# DRAW A FIGURE WITH MATPLOTLIB\n",
    "\n",
    "duration = 2\n",
    "\n",
    "fig_mpl, ax = plt.subplots(1,figsize=(5,3), facecolor='white')\n",
    "xx = np.linspace(-2,2,200) # the x vector\n",
    "zz = lambda d: np.sinc(xx**2)+np.sin(xx+d) # the (changing) z vector\n",
    "ax.set_title(\"Elevation in y=0\")\n",
    "ax.set_ylim(-1.5,2.5)\n",
    "line, = ax.plot(xx, zz(0), lw=3)\n",
    "\n",
    "# ANIMATE WITH MOVIEPY (UPDATE THE CURVE FOR EACH t). MAKE A GIF.\n",
    "\n",
    "def make_frame_mpl(t):\n",
    "    line.set_ydata( zz(2*np.pi*t/duration))  # <= Update the curve\n",
    "    return mplfig_to_npimage(fig_mpl) # RGB image of the figure\n",
    "\n",
    "animation =mpy.VideoClip(make_frame_mpl, duration=duration)\n",
    "animation.write_videofile(\"./sinc_mpl.mp4\", fps=60)\n",
    "\n",
    "display_video('sinc_mpl.mp4', 512, 384)"
   ]
  },
  {
   "cell_type": "markdown",
   "metadata": {},
   "source": [
    "## Using PyGame\n",
    "\n",
    "Sometimes you need somthing more advanced than rendering a mask or text on a video. As long as you can generate an 2D NumPy array of colors, you can anything!\n",
    "\n",
    "Here's an example using PyGame:"
   ]
  },
  {
   "cell_type": "code",
   "execution_count": 32,
   "metadata": {
    "collapsed": false,
    "scrolled": true
   },
   "outputs": [
    {
     "name": "stdout",
     "output_type": "stream",
     "text": [
      "[MoviePy] >>>> Building video ./video.mp4\n",
      "[MoviePy] Writing video ./video.mp4\n"
     ]
    },
    {
     "name": "stderr",
     "output_type": "stream",
     "text": [
      " 96%|█████████▌| 24/25 [00:01<00:00, 12.69it/s]\n"
     ]
    },
    {
     "name": "stdout",
     "output_type": "stream",
     "text": [
      "[MoviePy] Done.\n",
      "[MoviePy] >>>> Video ready: ./video.mp4 \n",
      "\n"
     ]
    },
    {
     "data": {
      "text/html": [
       "\n",
       "    <video width=\"256\" height=\"192\" style=\"margin:auto auto;\" autoplay loop=\"true\" >\n",
       "      <source src=\"video.mp4\" type=\"video/mp4\">\n",
       "    </video>\n",
       "    "
      ],
      "text/plain": [
       "<IPython.core.display.HTML object>"
      ]
     },
     "execution_count": 32,
     "metadata": {},
     "output_type": "execute_result"
    }
   ],
   "source": [
    "import os\n",
    "import pygame\n",
    "import moviepy.editor as mpy\n",
    "from IPython.display import HTML\n",
    "\n",
    "# Headless SDL\n",
    "os.environ['SDL_VIDEODRIVER'] = 'dummy'\n",
    "\n",
    "# Start up pygame\n",
    "pygame.init()\n",
    "\n",
    "# Going to hide the main display (make it small)\n",
    "pygame.display.set_mode((1,1))\n",
    "\n",
    "# Buffer we're going to draw changes in\n",
    "screen = pygame.Surface((1024, 768), pygame.SRCALPHA, 32)\n",
    "\n",
    "# Get your own duck\n",
    "duckface = pygame.image.load(\"res/duck.bmp\")\n",
    "position = duckface.get_rect()\n",
    "\n",
    "# Function to get a frame \n",
    "# Returns a NumPy-style array size WIDTHxHEIGHTx3\n",
    "# Represeting a 2D RGB field. (Each component is 8-bit)\n",
    "\n",
    "def next_frame(dt):\n",
    "    global position # globals, lol\n",
    "\n",
    "    # Translate by (2, 0)\n",
    "    position = position.move(2, 0)\n",
    "\n",
    "    # Fill the screen with black\n",
    "    screen.fill(0x00000000)\n",
    "\n",
    "    # Draw duckface\n",
    "    screen.blit(duckface, position)\n",
    "\n",
    "    # Bring the image from the other buffer to \n",
    "    # main\n",
    "    pygame.display.flip()\n",
    "\n",
    "    # For some reason, we have to do this or\n",
    "    # else the image comes out flipped\n",
    "    newscreen = pygame.transform.rotate(screen, 90)\n",
    "\n",
    "    # Reverse the columns of the pixel array\n",
    "    # We could do it with MoviePy with .fx(vfx.mirror_y)\n",
    "    return pygame.surfarray.array3d(newscreen)[:,::-1]\n",
    "    \n",
    "\n",
    "duration = 1 # in seconds\n",
    "animation = mpy.VideoClip(next_frame, duration=duration)\n",
    "animation.write_videofile(\"./video.mp4\", fps=24) \n",
    "\n",
    "\n",
    "display_video('video.mp4', 256, 192)\n"
   ]
  },
  {
   "cell_type": "markdown",
   "metadata": {},
   "source": [
    "## Making Contemporary Video (GIF Compositing)\n"
   ]
  },
  {
   "cell_type": "code",
   "execution_count": 33,
   "metadata": {
    "collapsed": false,
    "scrolled": true
   },
   "outputs": [
    {
     "data": {
      "text/html": [
       "\n",
       "<center><video width=\"300\" height=\"300\" autoplay loop=\"true\" >\n",
       "  <source src=\"./res/datboi.mp4\" type=\"video/mp4\">\n",
       "</video> &nbsp;&nbsp;&nbsp; <video width=\"300\" height=\"300\" autoplay loop=\"true\" >\n",
       "  <source src=\"./res/sunset.mp4\" type=\"video/mp4\">\n",
       "</video></center>\n"
      ],
      "text/plain": [
       "<IPython.core.display.HTML object>"
      ]
     },
     "execution_count": 33,
     "metadata": {},
     "output_type": "execute_result"
    }
   ],
   "source": [
    "HTML(\"\"\"\n",
    "<center><video width=\"300\" height=\"300\" autoplay loop=\"true\" >\n",
    "  <source src=\"./res/datboi.mp4\" type=\"video/mp4\">\n",
    "</video> &nbsp;&nbsp;&nbsp; <video width=\"300\" height=\"300\" autoplay loop=\"true\" >\n",
    "  <source src=\"./res/sunset.mp4\" type=\"video/mp4\">\n",
    "</video></center>\n",
    "\"\"\")"
   ]
  },
  {
   "cell_type": "code",
   "execution_count": 34,
   "metadata": {
    "collapsed": false,
    "scrolled": false
   },
   "outputs": [
    {
     "name": "stdout",
     "output_type": "stream",
     "text": [
      "[MoviePy] >>>> Building video datboi_over_sunset.mp4\n",
      "[MoviePy] Writing video datboi_over_sunset.mp4\n"
     ]
    },
    {
     "name": "stderr",
     "output_type": "stream",
     "text": [
      "100%|██████████| 8/8 [00:00<00:00, 42.70it/s]\n"
     ]
    },
    {
     "name": "stdout",
     "output_type": "stream",
     "text": [
      "[MoviePy] Done.\n",
      "[MoviePy] >>>> Video ready: datboi_over_sunset.mp4 \n",
      "\n"
     ]
    },
    {
     "data": {
      "text/html": [
       "\n",
       "    <video width=\"500\" height=\"500\" style=\"margin:auto auto;\" autoplay loop=\"true\" >\n",
       "      <source src=\"datboi_over_sunset.mp4\" type=\"video/mp4\">\n",
       "    </video>\n",
       "    "
      ],
      "text/plain": [
       "<IPython.core.display.HTML object>"
      ]
     },
     "execution_count": 34,
     "metadata": {},
     "output_type": "execute_result"
    }
   ],
   "source": [
    "# Import everything needed to edit video clips\n",
    "from moviepy.editor import *\n",
    "\n",
    "\n",
    "# Because it's a transparent GIF, it has a mask.\n",
    "clip = VideoFileClip(\"res/datboi.gif\", has_mask=True).subclip(0,.3)\n",
    "sunset = VideoFileClip(\"res/sunset.mp4\").subclip(0,.3)\n",
    "\n",
    "video = CompositeVideoClip([sunset, clip])\n",
    "\n",
    "# Write the result to a file\n",
    "video.write_videofile(\"datboi_over_sunset.mp4\",fps=24)\n",
    "\n",
    "display_video('datboi_over_sunset.mp4')"
   ]
  },
  {
   "cell_type": "markdown",
   "metadata": {},
   "source": [
    "## Dependencies\n",
    "\n",
    "I've only tested this on macOS. Please update the instructions if you find yourself installing this on other platforms. Install with `pip install -r requirements.txt`"
   ]
  }
 ],
 "metadata": {
  "kernelspec": {
   "display_name": "Python 3",
   "language": "python",
   "name": "python3"
  },
  "language_info": {
   "codemirror_mode": {
    "name": "ipython",
    "version": 3
   },
   "file_extension": ".py",
   "mimetype": "text/x-python",
   "name": "python",
   "nbconvert_exporter": "python",
   "pygments_lexer": "ipython3",
   "version": "3.5.1"
  }
 },
 "nbformat": 4,
 "nbformat_minor": 1
}
