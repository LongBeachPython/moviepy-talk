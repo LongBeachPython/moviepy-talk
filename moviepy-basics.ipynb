{
 "cells": [
  {
   "cell_type": "markdown",
   "metadata": {},
   "source": [
    "# Basics of MoviePy"
   ]
  },
  {
   "cell_type": "markdown",
   "metadata": {},
   "source": [
    "From [the MoviePy Site](http://zulko.github.io/moviepy/)\n",
    "\n",
    "> MoviePy is a Python module for video editing, which can be used for basic operations (like cuts, concatenations, title insertions), video compositing (a.k.a. non-linear editing), video processing, or to create advanced effects. It can read and write the most common video formats, including GIF.\n"
   ]
  },
  {
   "cell_type": "markdown",
   "metadata": {},
   "source": [
    "## Why?\n",
    "\n",
    "\n",
    "\n",
    "\n",
    "  - Snackable content is becoming more and more significant.\n",
    "  - Some companies providers of snackable cotnent:\n",
    "      - Mashable\n",
    "      - BuzzFeed\n",
    "      - I N S I D E R\n",
    "      - Most of Reddit \n",
    "      - 9GAG\n",
    "  - Stealing Youtube Videos and putting it on YouTube (DON'T DO THIS!)\n",
    "  "
   ]
  },
  {
   "cell_type": "code",
   "execution_count": null,
   "metadata": {
    "collapsed": true
   },
   "outputs": [],
   "source": []
  }
 ],
 "metadata": {
  "kernelspec": {
   "display_name": "Python 3",
   "language": "python",
   "name": "python3"
  },
  "language_info": {
   "codemirror_mode": {
    "name": "ipython",
    "version": 3
   },
   "file_extension": ".py",
   "mimetype": "text/x-python",
   "name": "python",
   "nbconvert_exporter": "python",
   "pygments_lexer": "ipython3",
   "version": "3.5.1"
  }
 },
 "nbformat": 4,
 "nbformat_minor": 1
}
